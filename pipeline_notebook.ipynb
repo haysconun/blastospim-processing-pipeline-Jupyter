{
 "cells": [
  {
   "cell_type": "code",
   "execution_count": 1,
   "id": "4e6f97b2-b8e2-4d7e-b8ed-e669bf71fcb8",
   "metadata": {
    "tags": []
   },
   "outputs": [],
   "source": [
    "import stardist\n",
    "import os\n",
    "os.getcwd()\n",
    "# path_to_code = '/type/path/to/downloaded/code/here' # MAKE SURE THAT YOU SPECIFY the path to the folder you downloaded \n",
    "path_to_code = '/mnt/home/hnunley/revised_code_for_pipeline/stardist_inference' \n",
    "assert os.path.exists(path_to_code)\n",
    "os.chdir(path_to_code) "
   ]
  },
  {
   "cell_type": "code",
   "execution_count": 2,
   "id": "27ea8c88-2c18-4e17-b7cc-0e8121a559fa",
   "metadata": {
    "tags": []
   },
   "outputs": [],
   "source": [
    "# import os\n",
    "# import numpy as np\n",
    "# import h5py\n",
    "# try:\n",
    "#     import pyklb\n",
    "# except ImportError:\n",
    "#     print(\"pyklb install missing! All klb format operations will fail. \")\n",
    "# import tifffile as tif"
   ]
  },
  {
   "cell_type": "code",
   "execution_count": 5,
   "id": "b7608408-fef0-4683-ad72-db4d02d9ca71",
   "metadata": {
    "tags": []
   },
   "outputs": [],
   "source": [
    "from stardist_main_again import wrapper_run_model"
   ]
  },
  {
   "cell_type": "code",
   "execution_count": 6,
   "id": "c6cc9d9d-13b7-421a-99a2-4c4b0d226f4b",
   "metadata": {
    "tags": []
   },
   "outputs": [
    {
     "name": "stdout",
     "output_type": "stream",
     "text": [
      "Loading model:  early_embryo_model\n"
     ]
    },
    {
     "name": "stderr",
     "output_type": "stream",
     "text": [
      "2024-06-20 09:52:44.992708: E tensorflow/stream_executor/cuda/cuda_driver.cc:265] failed call to cuInit: CUDA_ERROR_NO_DEVICE: no CUDA-capable device is detected\n",
      "2024-06-20 09:52:44.992761: I tensorflow/stream_executor/cuda/cuda_diagnostics.cc:156] kernel driver does not appear to be running on this host (worker3070): /proc/driver/nvidia/version does not exist\n",
      "2024-06-20 09:52:44.996181: I tensorflow/core/platform/cpu_feature_guard.cc:193] This TensorFlow binary is optimized with oneAPI Deep Neural Network Library (oneDNN) to use the following CPU instructions in performance-critical operations:  AVX2 AVX512F FMA\n",
      "To enable them in other operations, rebuild TensorFlow with the appropriate compiler flags.\n"
     ]
    },
    {
     "name": "stdout",
     "output_type": "stream",
     "text": [
      "Loading network weights from 'weights_best.h5'.\n",
      "Couldn't load thresholds from 'thresholds.json', using default values. (Call 'optimize_thresholds' to change that.)\n",
      "Using default values: prob_thresh=0.5, nms_thresh=0.4.\n",
      "Original thresholds: Thresholds(prob=0.5, nms=0.4)\n",
      "User modified thresholds: Thresholds(prob=0.5, nms=0.3)\n",
      "Loading model:  late_blastocyst_model\n",
      "Loading network weights from 'weights_best.h5'.\n",
      "Loading thresholds from 'thresholds.json'.\n",
      "Using default values: prob_thresh=0.531428, nms_thresh=0.3.\n",
      "Original thresholds: Thresholds(prob=0.5314277047224283, nms=0.3)\n",
      "User modified thresholds: Thresholds(prob=0.451, nms=0.5)\n",
      "Processing image: /mnt/home/hnunley/revised_code_for_pipeline/data/smallImages/Stardist3D_00024.tif\n",
      "loaded image shape: (50, 500, 660)\n",
      "Segmenting with late stage model.\n",
      "1/1 [==============================] - 2s 2s/step\n",
      "Processing image: /mnt/home/hnunley/revised_code_for_pipeline/data/smallImages/Stardist3D_00025.tif\n",
      "loaded image shape: (50, 500, 660)\n",
      "Segmenting with late stage model.\n",
      "1/1 [==============================] - 2s 2s/step\n",
      "Processing image: /mnt/home/hnunley/revised_code_for_pipeline/data/smallImages/Stardist3D_00015.tif\n",
      "loaded image shape: (50, 500, 660)\n",
      "Segmenting with early stage model.\n",
      "1/1 [==============================] - 2s 2s/step\n",
      "Processing image: /mnt/home/hnunley/revised_code_for_pipeline/data/smallImages/Stardist3D_00020.tif\n",
      "loaded image shape: (50, 500, 660)\n",
      "Segmenting with early stage model.\n",
      "1/1 [==============================] - 2s 2s/step\n",
      "Processing image: /mnt/home/hnunley/revised_code_for_pipeline/data/smallImages/Stardist3D_00030.tif\n",
      "loaded image shape: (50, 500, 660)\n",
      "Segmenting with late stage model.\n",
      "1/1 [==============================] - 2s 2s/step\n",
      "Processing image: /mnt/home/hnunley/revised_code_for_pipeline/data/smallImages/Stardist3D_00021.tif\n",
      "loaded image shape: (50, 500, 660)\n",
      "Segmenting with early stage model.\n",
      "1/1 [==============================] - 2s 2s/step\n",
      "Processing image: /mnt/home/hnunley/revised_code_for_pipeline/data/smallImages/Stardist3D_00027.tif\n",
      "loaded image shape: (50, 500, 660)\n",
      "Segmenting with late stage model.\n",
      "1/1 [==============================] - 2s 2s/step\n",
      "Processing image: /mnt/home/hnunley/revised_code_for_pipeline/data/smallImages/Stardist3D_00026.tif\n",
      "loaded image shape: (50, 500, 660)\n",
      "Segmenting with late stage model.\n",
      "1/1 [==============================] - 2s 2s/step\n",
      "Processing image: /mnt/home/hnunley/revised_code_for_pipeline/data/smallImages/Stardist3D_00023.tif\n",
      "loaded image shape: (50, 500, 660)\n",
      "Segmenting with late stage model.\n",
      "1/1 [==============================] - 2s 2s/step\n",
      "Processing image: /mnt/home/hnunley/revised_code_for_pipeline/data/smallImages/Stardist3D_00018.tif\n",
      "loaded image shape: (50, 500, 660)\n",
      "Segmenting with early stage model.\n",
      "1/1 [==============================] - 2s 2s/step\n",
      "Processing image: /mnt/home/hnunley/revised_code_for_pipeline/data/smallImages/Stardist3D_00031.tif\n",
      "loaded image shape: (50, 500, 660)\n",
      "Segmenting with late stage model.\n",
      "1/1 [==============================] - 2s 2s/step\n",
      "Processing image: /mnt/home/hnunley/revised_code_for_pipeline/data/smallImages/Stardist3D_00028.tif\n",
      "loaded image shape: (50, 500, 660)\n",
      "Segmenting with late stage model.\n",
      "1/1 [==============================] - 2s 2s/step\n",
      "Processing image: /mnt/home/hnunley/revised_code_for_pipeline/data/smallImages/Stardist3D_00022.tif\n",
      "loaded image shape: (50, 500, 660)\n",
      "Segmenting with late stage model.\n",
      "1/1 [==============================] - 2s 2s/step\n",
      "Processing image: /mnt/home/hnunley/revised_code_for_pipeline/data/smallImages/Stardist3D_00017.tif\n",
      "loaded image shape: (50, 500, 660)\n",
      "Segmenting with early stage model.\n",
      "1/1 [==============================] - 2s 2s/step\n",
      "Processing image: /mnt/home/hnunley/revised_code_for_pipeline/data/smallImages/Stardist3D_00016.tif\n",
      "loaded image shape: (50, 500, 660)\n",
      "Segmenting with early stage model.\n",
      "1/1 [==============================] - 2s 2s/step\n",
      "Processing image: /mnt/home/hnunley/revised_code_for_pipeline/data/smallImages/Stardist3D_00029.tif\n",
      "loaded image shape: (50, 500, 660)\n",
      "Segmenting with late stage model.\n",
      "1/1 [==============================] - 2s 2s/step\n",
      "Processing image: /mnt/home/hnunley/revised_code_for_pipeline/data/smallImages/Stardist3D_00019.tif\n",
      "loaded image shape: (50, 500, 660)\n",
      "Segmenting with early stage model.\n",
      "1/1 [==============================] - 2s 2s/step\n"
     ]
    }
   ],
   "source": [
    "image_path = \"/mnt/home/hnunley/revised_code_for_pipeline/data/smallImages\"\n",
    "output_dir = \"/mnt/home/hnunley/revised_code_for_pipeline/output\"\n",
    "early_model_dir = \"/mnt/home/hnunley/revised_code_for_pipeline/models/early_embryo_model\"\n",
    "early_prob_thresh = 0.5\n",
    "early_nms_thresh = 0.3\n",
    "late_model_dir = \"/mnt/home/hnunley/revised_code_for_pipeline/models/late_blastocyst_model\"\n",
    "late_prob_thresh = 0.451\n",
    "late_nms_thresh = 0.5\n",
    "timepoint_switch = 22\n",
    "output_format = \"tif\"\n",
    "wrapper_run_model(image_path, output_dir, early_model_dir, early_prob_thresh, early_nms_thresh, late_model_dir, late_prob_thresh, late_nms_thresh, timepoint_switch, output_format)"
   ]
  },
  {
   "cell_type": "code",
   "execution_count": 12,
   "id": "55a18e12-8151-46f6-a337-6a64b89eac7b",
   "metadata": {
    "tags": []
   },
   "outputs": [],
   "source": [
    "# from tifffile import imread, imwrite\n",
    "# Xi = imread('/mnt/ceph/users/hnunley/mouse_data_folder_Apr24/test/data/Images/klbOut_Cam_Long_00015.lux.tif')\n",
    "# Yi = imread('/mnt/ceph/users/hnunley/mouse_data_folder_Apr24/test/data/Expected_Segmentation/klbOut_Cam_Long_00015.lux.label.tif')"
   ]
  },
  {
   "cell_type": "code",
   "execution_count": 11,
   "id": "50e7a3c0-1c90-4ac6-88ed-43ad1817e35e",
   "metadata": {
    "tags": []
   },
   "outputs": [],
   "source": [
    "# specify path to lineage tracking code"
   ]
  },
  {
   "cell_type": "code",
   "execution_count": null,
   "id": "3cafd2ee-19a9-4c71-9f0f-01d71ff2f5f7",
   "metadata": {},
   "outputs": [],
   "source": []
  }
 ],
 "metadata": {
  "kernelspec": {
   "display_name": "final_kernel_Jun19",
   "language": "python",
   "name": "final_kernel_jun19"
  },
  "language_info": {
   "codemirror_mode": {
    "name": "ipython",
    "version": 3
   },
   "file_extension": ".py",
   "mimetype": "text/x-python",
   "name": "python",
   "nbconvert_exporter": "python",
   "pygments_lexer": "ipython3",
   "version": "3.10.10"
  }
 },
 "nbformat": 4,
 "nbformat_minor": 5
}
