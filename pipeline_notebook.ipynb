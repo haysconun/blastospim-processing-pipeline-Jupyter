{
 "cells": [
  {
   "cell_type": "code",
   "execution_count": 1,
   "id": "4e6f97b2-b8e2-4d7e-b8ed-e669bf71fcb8",
   "metadata": {
    "tags": []
   },
   "outputs": [
    {
     "name": "stdout",
     "output_type": "stream",
     "text": [
      "3.9.13\n"
     ]
    }
   ],
   "source": [
    "# Cell 1: setting path to blastospim-processing-pipeline-Jupyter code and checking environment\n",
    "\n",
    "import stardist # TO CHECK THAT STARDIST IS PROPERLY INSTALLED IN THIS ENVIRONMENT\n",
    "import os\n",
    "\n",
    "# Specify path to blastospim-processing-pipeline-Jupyter directory\n",
    "# path_to_code = '/path/to/your/blastospim-processing-pipeline-Jupyter/'\n",
    "path_to_code = '/Users/hnunley/Pictures/blastospim-processing-pipeline-Jupyter/'\n",
    "assert os.path.exists(path_to_code)\n",
    "os.chdir(path_to_code) \n",
    "\n",
    "from platform import python_version\n",
    "print(python_version())"
   ]
  },
  {
   "cell_type": "code",
   "execution_count": 2,
   "id": "f57edaa8-1495-4b2d-914d-dcdbcae1d275",
   "metadata": {},
   "outputs": [],
   "source": [
    "# Cell 2: check that output path exists\n",
    "\n",
    "output_dir = path_to_code + 'output' # output path\n",
    "if not os.path.exists(output_dir):\n",
    "    os.mkdir(output_dir) "
   ]
  },
  {
   "cell_type": "code",
   "execution_count": 4,
   "id": "0e6c1a4a-64bd-49f3-8c54-e3f9ee3f6425",
   "metadata": {},
   "outputs": [
    {
     "name": "stdout",
     "output_type": "stream",
     "text": [
      "pyklb install missing! All klb format operations will fail. \n"
     ]
    },
    {
     "name": "stderr",
     "output_type": "stream",
     "text": [
      "2024-07-07 12:58:04.291203: I tensorflow/core/platform/cpu_feature_guard.cc:193] This TensorFlow binary is optimized with oneAPI Deep Neural Network Library (oneDNN) to use the following CPU instructions in performance-critical operations:  AVX2 FMA\n",
      "To enable them in other operations, rebuild TensorFlow with the appropriate compiler flags.\n"
     ]
    }
   ],
   "source": [
    "# Cell 3: Import function for Stardist inference on a set of images.\n",
    "\n",
    "path_to_inference_code = path_to_code + 'stardist_inference'\n",
    "assert os.path.exists(path_to_inference_code)\n",
    "os.chdir(path_to_inference_code) \n",
    "from stardist_main_again import wrapper_run_model \n",
    "# wrapper_run_model runs the model on a set of images in a common folder\n",
    "# tensorflow may output here: only E indicates an error\n",
    "# ignore \"E tensorflow/stream_executor/cuda/cuda_blas.cc:2981] Unable to register cuBLAS factory: Attempting to register factory for plugin cuBLAS when one has already been registered\"\n",
    "# That is improperly flagged as an error, should be warning"
   ]
  },
  {
   "cell_type": "code",
   "execution_count": 5,
   "id": "eede3e67-4286-4e8d-87e0-bfa792d0aeb7",
   "metadata": {
    "tags": []
   },
   "outputs": [
    {
     "name": "stdout",
     "output_type": "stream",
     "text": [
      "Loading model:  early_embryo_model\n"
     ]
    },
    {
     "name": "stderr",
     "output_type": "stream",
     "text": [
      "2024-07-07 12:58:20.516419: I tensorflow/core/platform/cpu_feature_guard.cc:193] This TensorFlow binary is optimized with oneAPI Deep Neural Network Library (oneDNN) to use the following CPU instructions in performance-critical operations:  AVX2 FMA\n",
      "To enable them in other operations, rebuild TensorFlow with the appropriate compiler flags.\n"
     ]
    },
    {
     "name": "stdout",
     "output_type": "stream",
     "text": [
      "Loading network weights from 'weights_best.h5'.\n",
      "Couldn't load thresholds from 'thresholds.json', using default values. (Call 'optimize_thresholds' to change that.)\n",
      "Using default values: prob_thresh=0.5, nms_thresh=0.4.\n",
      "Original thresholds: Thresholds(prob=0.5, nms=0.4)\n",
      "User modified thresholds: Thresholds(prob=0.5, nms=0.3)\n",
      "Loading model:  late_blastocyst_model\n",
      "Loading network weights from 'weights_best.h5'.\n",
      "Loading thresholds from 'thresholds.json'.\n",
      "Using default values: prob_thresh=0.531428, nms_thresh=0.3.\n",
      "Original thresholds: Thresholds(prob=0.5314277047224283, nms=0.3)\n",
      "User modified thresholds: Thresholds(prob=0.451, nms=0.5)\n",
      "Processing image: /Users/hnunley/Pictures/blastospim-processing-pipeline-Jupyter/data/smallImages/Stardist3D_00016.tif\n",
      "loaded image shape: (50, 500, 660)\n",
      "Segmenting with early stage model.\n",
      "1/1 [==============================] - 9s 9s/step\n",
      "Processing image: /Users/hnunley/Pictures/blastospim-processing-pipeline-Jupyter/data/smallImages/Stardist3D_00017.tif\n",
      "loaded image shape: (50, 500, 660)\n",
      "Segmenting with early stage model.\n",
      "1/1 [==============================] - 10s 10s/step\n",
      "Processing image: /Users/hnunley/Pictures/blastospim-processing-pipeline-Jupyter/data/smallImages/Stardist3D_00029.tif\n",
      "loaded image shape: (50, 500, 660)\n",
      "Segmenting with late stage model.\n",
      "1/1 [==============================] - 11s 11s/step\n",
      "Processing image: /Users/hnunley/Pictures/blastospim-processing-pipeline-Jupyter/data/smallImages/Stardist3D_00015.tif\n",
      "loaded image shape: (50, 500, 660)\n",
      "Segmenting with early stage model.\n",
      "1/1 [==============================] - 11s 11s/step\n",
      "Processing image: /Users/hnunley/Pictures/blastospim-processing-pipeline-Jupyter/data/smallImages/Stardist3D_00028.tif\n",
      "loaded image shape: (50, 500, 660)\n",
      "Segmenting with late stage model.\n",
      "1/1 [==============================] - 10s 10s/step\n",
      "Processing image: /Users/hnunley/Pictures/blastospim-processing-pipeline-Jupyter/data/smallImages/Stardist3D_00023.tif\n",
      "loaded image shape: (50, 500, 660)\n",
      "Segmenting with late stage model.\n",
      "1/1 [==============================] - 10s 10s/step\n",
      "Processing image: /Users/hnunley/Pictures/blastospim-processing-pipeline-Jupyter/data/smallImages/Stardist3D_00022.tif\n",
      "loaded image shape: (50, 500, 660)\n",
      "Segmenting with late stage model.\n",
      "1/1 [==============================] - 10s 10s/step\n",
      "Processing image: /Users/hnunley/Pictures/blastospim-processing-pipeline-Jupyter/data/smallImages/Stardist3D_00020.tif\n",
      "loaded image shape: (50, 500, 660)\n",
      "Segmenting with early stage model.\n",
      "1/1 [==============================] - 10s 10s/step\n",
      "Processing image: /Users/hnunley/Pictures/blastospim-processing-pipeline-Jupyter/data/smallImages/Stardist3D_00021.tif\n",
      "loaded image shape: (50, 500, 660)\n",
      "Segmenting with early stage model.\n",
      "1/1 [==============================] - 9s 9s/step\n",
      "Processing image: /Users/hnunley/Pictures/blastospim-processing-pipeline-Jupyter/data/smallImages/Stardist3D_00031.tif\n",
      "loaded image shape: (50, 500, 660)\n",
      "Segmenting with late stage model.\n",
      "1/1 [==============================] - 9s 9s/step\n",
      "Processing image: /Users/hnunley/Pictures/blastospim-processing-pipeline-Jupyter/data/smallImages/Stardist3D_00025.tif\n",
      "loaded image shape: (50, 500, 660)\n",
      "Segmenting with late stage model.\n",
      "1/1 [==============================] - 9s 9s/step\n",
      "Processing image: /Users/hnunley/Pictures/blastospim-processing-pipeline-Jupyter/data/smallImages/Stardist3D_00019.tif\n",
      "loaded image shape: (50, 500, 660)\n",
      "Segmenting with early stage model.\n",
      "1/1 [==============================] - 9s 9s/step\n",
      "Processing image: /Users/hnunley/Pictures/blastospim-processing-pipeline-Jupyter/data/smallImages/Stardist3D_00018.tif\n",
      "loaded image shape: (50, 500, 660)\n",
      "Segmenting with early stage model.\n",
      "1/1 [==============================] - 10s 10s/step\n",
      "Processing image: /Users/hnunley/Pictures/blastospim-processing-pipeline-Jupyter/data/smallImages/Stardist3D_00024.tif\n",
      "loaded image shape: (50, 500, 660)\n",
      "Segmenting with late stage model.\n",
      "1/1 [==============================] - 9s 9s/step\n",
      "Processing image: /Users/hnunley/Pictures/blastospim-processing-pipeline-Jupyter/data/smallImages/Stardist3D_00030.tif\n",
      "loaded image shape: (50, 500, 660)\n",
      "Segmenting with late stage model.\n",
      "1/1 [==============================] - 9s 9s/step\n",
      "Processing image: /Users/hnunley/Pictures/blastospim-processing-pipeline-Jupyter/data/smallImages/Stardist3D_00026.tif\n",
      "loaded image shape: (50, 500, 660)\n",
      "Segmenting with late stage model.\n",
      "1/1 [==============================] - 9s 9s/step\n",
      "Processing image: /Users/hnunley/Pictures/blastospim-processing-pipeline-Jupyter/data/smallImages/Stardist3D_00027.tif\n",
      "loaded image shape: (50, 500, 660)\n",
      "Segmenting with late stage model.\n",
      "1/1 [==============================] - 9s 9s/step\n"
     ]
    }
   ],
   "source": [
    "# Cell 4: SET PATHS, SETTINGS FOR YOUR OWN IMAGES AND OUTPUTS -- STARDIST SEGMENTATION\n",
    "\n",
    "image_path = path_to_code + 'data/smallImages' # The path to the original raw intensity image(s) in klb/h5/tif/npy format with the same extensions respectively.\n",
    "early_model_dir = path_to_code + 'models/early_embryo_model' # The directory containing the trained Stardist 3D model for early stage of the embryo.\n",
    "early_prob_thresh = 0.5 # The probability threshold to be used to initialize the Stardist 3D model for early stage of the embryo.\n",
    "early_nms_thresh = 0.3 # The nms threshold to be used to initialize the Stardist 3D model for early stage of the embryo.\n",
    "late_model_dir = path_to_code + 'models/late_blastocyst_model' # The directory containing the trained Stardist 3D model for late stage of the embryo.\n",
    "late_prob_thresh = 0.451 # The probability threshold to be used to initialize the Stardist 3D model for late stage of the embryo.\n",
    "late_nms_thresh = 0.5 # The nms threshold to be used to initialize the Stardist 3D model for late stage of the embryo.\n",
    "timepoint_switch = 22 # The time-point to switch from early to lae stage model.\n",
    "output_format = \"tif\" # The output format klb/h5/tif/npy. -- cannot output klb if pyklb not installed!\n",
    "\n",
    "wrapper_run_model(image_path, output_dir, early_model_dir, early_prob_thresh, early_nms_thresh, late_model_dir, late_prob_thresh, late_nms_thresh, timepoint_switch, output_format)"
   ]
  },
  {
   "cell_type": "code",
   "execution_count": 7,
   "id": "cf1db0d7-db3a-4bfb-af3c-8976269da694",
   "metadata": {},
   "outputs": [
    {
     "data": {
      "text/html": [
       "<div id=\"gizmo_href_1720372395095_38\">Link:&nbsp;</div>\n",
       "<script>\n",
       "(function () {\n",
       "\n",
       "function suffix_at(from_url, suffix, at_strings) {\n",
       "    // for example\n",
       "    //  var url = \"http://localhost:8888/notebooks/repos/H5Gizmos/doc/Demo.ipynb\";\n",
       "    //  var at_strings = [\"notebooks/\", \"lab/\"];\n",
       "    //  var suffix = \"GizmoLink/connect/50732/gizmo/http/MGR_1702413571757_3/index.html\";\n",
       "    //  suffix_at(url, suffix, at_strings)\n",
       "    //   ==> http://localhost:8888/GizmoLink/connect/50732/gizmo/http/MGR_1702413571757_3/index.html\n",
       "    at_strings = at_strings || [\"notebooks/\", \"lab/\"];\n",
       "    var prefix = from_url;\n",
       "    for (var splitter of at_strings) {\n",
       "        var prefix0 = from_url.split(splitter)[0];\n",
       "        if (prefix0.length < prefix.length) {\n",
       "            //console.log(\"choosing prefix\", prefix0, splitter)\n",
       "            prefix = prefix0;\n",
       "        }\n",
       "    }\n",
       "    if (prefix.length >= from_url.length) {\n",
       "        throw new Error(\"no split found: \" + from_url);\n",
       "    }\n",
       "    //console.log(\"chose prefix\", prefix, prefix.length, from_url.length);\n",
       "    return prefix + suffix;\n",
       "};\n",
       "\n",
       "/**\n",
       " * Fetch content from a URL and check if it starts with \"pong\"\n",
       " * @param {string} url - The URL to fetch\n",
       " * @returns {Promise<boolean>} - A promise that resolves to `true` if the content starts with \"pong\", otherwise `false`\n",
       " */\n",
       "async function startsWithPong(url) {\n",
       "    try {\n",
       "        // Fetch the content from the given URL\n",
       "        const response = await fetch(url);\n",
       "\n",
       "        // Check if the fetch was successful (HTTP status 200)\n",
       "        if (!response.ok) {\n",
       "            console.error(`Error fetching URL: ${response.status} - ${response.statusText}`);\n",
       "            return false;\n",
       "        }\n",
       "\n",
       "        // Read the response as text\n",
       "        const text = await response.text();\n",
       "\n",
       "        // Check if the content starts with \"pong\"\n",
       "        return text.trim().startsWith(\"pong\");\n",
       "    } catch (error) {\n",
       "        console.error(\"Error during fetch operation:\", error);\n",
       "        return false;\n",
       "    }\n",
       "};\n",
       "\n",
       "// Function to replace occurrences of \"/gizmo\" and anything after it with replacement text\n",
       "function replaceGizmo(inputString, replacement) {\n",
       "    // Use a regular expression to match \"/gizmo\" and anything following it\n",
       "    return inputString.replace(/\\/gizmo.*$/, replacement);\n",
       "};\n",
       "\n",
       "// fallback on ping failure\n",
       "async function ping_fallback(info_div, ping_url, fallback_url) {\n",
       "    info_div.innerHTML = \"ping failed: \" + ping_url + `.<br>\n",
       "    If this happens when you (re)run the notebook\n",
       "    it might indicate that the Jupyter server does not have H5Gizmos installed\n",
       "    but the IPython kernel has H5Gizmos installed.<br>\n",
       "    Please try to open the fallback URL: \n",
       "    <a href=\"${fallback_url}\" target=\"_blank\">${fallback_url}</a>.<br>\n",
       "    The fallback URL may not work if the Jupyter server is running behind a firewall.`;\n",
       "};\n",
       "async function frame_fallback(info_div, frame, ping_url, fallback_url) {\n",
       "    info_div.innerHTML = \"ping failed: \" + ping_url + `.<br>\n",
       "    This might indicate that the Jupyter server does not have H5Gizmos installed\n",
       "    but the IPython kernel has H5Gizmos installed.<br>\n",
       "    Attempting to open the fallback URL: ${fallback_url}.<br>\n",
       "    The fallback URL may not work if the Jupyter server is running behind a firewall.`;\n",
       "    frame.src = fallback_url;\n",
       "};\n",
       "\n",
       "var ident = \"gizmo_href_1720372395095_38\";\n",
       "var suffix = \"GizmoLink/connect/54780/gizmo/http/MGR_1720372395090_21/index.html\";\n",
       "var fallback_url = \"http://127.0.0.1:54780/gizmo/http/MGR_1720372395090_21/index.html\";\n",
       "var div = document.getElementById(ident);\n",
       "var url = suffix_at(window.location.href, suffix);\n",
       "link = document.createElement(\"a\");\n",
       "link.href = url;\n",
       "var ping_url = replaceGizmo(url, \"/ping?now=\" + Date.now());\n",
       "async function ping() {\n",
       "    var pong = await startsWithPong(ping_url);\n",
       "    if (pong) {\n",
       "        console.log(\"pong received\", ping_url);\n",
       "        link.target = \"_blank\";\n",
       "        link.innerHTML = url;\n",
       "        div.appendChild(link);\n",
       "    } else {\n",
       "        console.log(\"no pong\", ping_url);\n",
       "        ping_fallback(div, ping_url, fallback_url);\n",
       "    }\n",
       "};\n",
       "ping();\n",
       "//link.target = \"_blank\";\n",
       "//link.innerHTML = url;\n",
       "//div.appendChild(link);\n",
       "\n",
       "}) ();\n",
       "</script>\n"
      ],
      "text/plain": [
       "<IPython.core.display.HTML object>"
      ]
     },
     "metadata": {},
     "output_type": "display_data"
    }
   ],
   "source": [
    "# Cell 5: Visualization of Stardist-3D segmentation with raw image\n",
    "\n",
    "bVis = True # flag for visualization\n",
    "# specify image paths\n",
    "labels_path = output_dir + os.path.sep + 'Stardist3D_00024.label.tif'\n",
    "intensities_path = image_path + os.path.sep + 'Stardist3D_00024.tif'\n",
    "if bVis:\n",
    "    from volume_gizmos import SegmentationQuad\n",
    "    quad = await SegmentationQuad.quad(labels_path, intensities_path, size=400, dK=10, rotate=False)"
   ]
  },
  {
   "cell_type": "code",
   "execution_count": 3,
   "id": "09ac90b0-11dd-4e69-981a-393132f0a329",
   "metadata": {},
   "outputs": [
    {
     "name": "stdout",
     "output_type": "stream",
     "text": [
      "\u001b[?1h\u001b=\n",
      "                            < M A T L A B (R) >\n",
      "                  Copyright 1984-2022 The MathWorks, Inc.\n",
      "              R2022a Update 3 (9.12.0.1975300) 64-bit (maci64)\n",
      "                                June 2, 2022\n",
      "\n",
      " \n",
      "To get started, type doc.\n",
      "For product information, visit www.mathworks.com.\n",
      " \n",
      "\u001b[?1l\u001b>"
     ]
    }
   ],
   "source": [
    "# Cell 6: Simple check that you can run MATLAB from this notebook\n",
    "\n",
    "# check that you are running matlab correctly (see links for MATLAB in setup instructions)\n",
    "!/Applications/MATLAB_R2022a.app/bin/matlab -nosplash -nodesktop -r \"1+1 == 2; exit\""
   ]
  },
  {
   "cell_type": "code",
   "execution_count": null,
   "id": "c5a8276c-d069-4785-922f-3eed3ae3e3af",
   "metadata": {},
   "outputs": [],
   "source": [
    "# Cell 7: Change config.yaml file (in your blastospim-processing-pipeline-Jupyter directory)\n",
    "\n",
    "# adjust config file before running either of matlab codes below\n",
    "# check that you are running matlab correctlty (see Cell above)"
   ]
  },
  {
   "cell_type": "code",
   "execution_count": 4,
   "id": "50e7a3c0-1c90-4ac6-88ed-43ad1817e35e",
   "metadata": {
    "tags": []
   },
   "outputs": [
    {
     "name": "stdout",
     "output_type": "stream",
     "text": [
      "\u001b[?1h\u001b=\n",
      "                            < M A T L A B (R) >\n",
      "                  Copyright 1984-2022 The MathWorks, Inc.\n",
      "              R2022a Update 3 (9.12.0.1975300) 64-bit (maci64)\n",
      "                                June 2, 2022\n",
      "\n",
      " \n",
      "To get started, type doc.\n",
      "For product information, visit www.mathworks.com.\n",
      " \n",
      "Beginning Registration Pair (15, 16)... Best Sigma2: 1.583526, Done!\n",
      "Beginning Registration Pair (16, 17)... Best Sigma2: 1.470606, Done!\n",
      "Beginning Registration Pair (17, 18)... Best Sigma2: 15.771214, Done!\n",
      "Beginning Registration Pair (18, 19)... Best Sigma2: 11.582731, Done!\n",
      "Beginning Registration Pair (19, 20)... Best Sigma2: 12.065820, Done!\n",
      "Beginning Registration Pair (20, 21)... Best Sigma2: 10.830419, Done!\n",
      "Beginning Registration Pair (21, 22)... Best Sigma2: 6.380989, Done!\n",
      "Beginning Registration Pair (22, 23)... Best Sigma2: 6.356322, Done!\n",
      "Beginning Registration Pair (23, 24)... Best Sigma2: 2.694241, Done!\n",
      "Beginning Registration Pair (24, 25)... Best Sigma2: 0.840018, Done!\n",
      "Beginning Registration Pair (25, 26)... Best Sigma2: 14.477027, Done!\n",
      "Beginning Registration Pair (26, 27)... Best Sigma2: 4.345940, Done!\n",
      "Beginning Registration Pair (27, 28)... Best Sigma2: 4.885115, Done!\n",
      "Beginning Registration Pair (28, 29)... Best Sigma2: 7.244024, Done!\n",
      "Beginning Registration Pair (29, 30)... Best Sigma2: 12.379594, Done!\n",
      "Beginning Registration Pair (30, 31)... Best Sigma2: 1.722522, Done!\n",
      "Elapsed time is 21.997758 seconds.\n",
      "\u001b[?1l\u001b>"
     ]
    }
   ],
   "source": [
    "# Cell 8: Change path to registration code and run registration.\n",
    "\n",
    "path_to_registration_code = path_to_code + 'lineage_track' + os.path.sep + 'regristration' # specify path to lineage tracking code\n",
    "assert os.path.exists(path_to_registration_code)\n",
    "os.chdir(path_to_registration_code) \n",
    "# MAKE SURE THAT THE CONFIG.YAML IS IN THE path_to_code DIRECTORY SPECIFIED AT TOP\n",
    "!/Applications/MATLAB_R2022a.app/bin/matlab -nosplash -nodesktop -r \"Registration_Centroids(); exit\""
   ]
  },
  {
   "cell_type": "code",
   "execution_count": 5,
   "id": "57e5aaaa-3c6c-46ba-a8a8-fce46644f2ea",
   "metadata": {},
   "outputs": [
    {
     "name": "stdout",
     "output_type": "stream",
     "text": [
      "\u001b[?1h\u001b=\n",
      "                            < M A T L A B (R) >\n",
      "                  Copyright 1984-2022 The MathWorks, Inc.\n",
      "              R2022a Update 3 (9.12.0.1975300) 64-bit (maci64)\n",
      "                                June 2, 2022\n",
      "\n",
      " \n",
      "To get started, type doc.\n",
      "For product information, visit www.mathworks.com.\n",
      " \n",
      "        5841           6\n",
      "\n",
      "    15\n",
      "\n",
      "        5486           6\n",
      "\n",
      "    16\n",
      "\n",
      "        5390           6\n",
      "\n",
      "    17\n",
      "\n",
      "        5390           6\n",
      "\n",
      "    18\n",
      "\n",
      "        5036           6\n",
      "\n",
      "    19\n",
      "\n",
      "        4929           6\n",
      "\n",
      "    20\n",
      "\n",
      "        4949           6\n",
      "\n",
      "    21\n",
      "\n",
      "        5616           6\n",
      "\n",
      "    22\n",
      "\n",
      "        5616           6\n",
      "\n",
      "    23\n",
      "\n",
      "        5657           6\n",
      "\n",
      "    24\n",
      "\n",
      "        5657           6\n",
      "\n",
      "    25\n",
      "\n",
      "        5705           6\n",
      "\n",
      "    26\n",
      "\n",
      "        5705           6\n",
      "\n",
      "    27\n",
      "\n",
      "        5557           6\n",
      "\n",
      "    28\n",
      "\n",
      "        5958           6\n",
      "\n",
      "    29\n",
      "\n",
      "        5958           6\n",
      "\n",
      "    30\n",
      "\n",
      "\u001b[?1l\u001b>"
     ]
    }
   ],
   "source": [
    "# Cell 9: Change path to registration code and write out data for later visualizing registration.\n",
    "\n",
    "path_to_registration_code = path_to_code + 'lineage_track' + os.path.sep + 'regristration' # specify path to lineage tracking code\n",
    "assert os.path.exists(path_to_registration_code)\n",
    "os.chdir(path_to_registration_code) \n",
    "# MAKE SURE THAT THE CONFIG.YAML IS IN THE path_to_code DIRECTORY SPECIFIED AT TOP\n",
    "!/Applications/MATLAB_R2022a.app/bin/matlab -nosplash -nodesktop -r \"VisualizeSequence(); exit\""
   ]
  },
  {
   "cell_type": "code",
   "execution_count": 2,
   "id": "d347a0b8-8bdb-4277-b220-4ba10f0cf242",
   "metadata": {},
   "outputs": [],
   "source": [
    "timeindex1 = 16\n",
    "strval1 = str(timeindex1)\n",
    "strval1 = strval1.rjust(3, '0')\n",
    "timeindex2 = timeindex1 + 1\n",
    "strval2 = str(timeindex2)\n",
    "strval2 = strval2.rjust(3, '0')\n",
    "filename1 = path_to_code + 'data/Expected_Track/' + 'combined_mat_' + strval1 + '_' + strval2 + '.csv'\n",
    "# put some note -- assert about existence of file"
   ]
  },
  {
   "cell_type": "code",
   "execution_count": 3,
   "id": "0e8fc8b2-eb73-4955-99c7-f0afa4750c89",
   "metadata": {},
   "outputs": [],
   "source": [
    "import csv\n",
    "import numpy as np\n",
    "counterval = 0\n",
    "with open(filename1, newline='') as csvfile:\n",
    "    spamreader = csv.reader(csvfile, delimiter=' ', quotechar='|')\n",
    "    for row in spamreader:\n",
    "        counterval = counterval + 1\n",
    "        # print(', '.join(row))\n",
    "        \n",
    "np_pt_cloud1 = np.zeros((counterval, 3), dtype=float)\n",
    "np_pt_cloud2 = np.zeros((counterval, 3), dtype=float)\n",
    "counterval = 0\n",
    "with open(filename1, newline='') as csvfile:\n",
    "    spamreader = csv.reader(csvfile, delimiter=' ', quotechar='|')\n",
    "    for row in spamreader:\n",
    "        otherrow = row[0]\n",
    "        otherrowconconverted = np.fromstring(otherrow, dtype=float, sep=',')\n",
    "        np_pt_cloud1[counterval, 0] = otherrowconconverted[0]\n",
    "        np_pt_cloud1[counterval, 1] = otherrowconconverted[1]\n",
    "        np_pt_cloud1[counterval, 2] = otherrowconconverted[2]\n",
    "        np_pt_cloud2[counterval, 0] = otherrowconconverted[3]\n",
    "        np_pt_cloud2[counterval, 1] = otherrowconconverted[4]\n",
    "        np_pt_cloud2[counterval, 2] = otherrowconconverted[5]\n",
    "        counterval = counterval + 1"
   ]
  },
  {
   "cell_type": "code",
   "execution_count": 4,
   "id": "64880bdb-4114-4008-a588-04790e5e1edb",
   "metadata": {},
   "outputs": [],
   "source": [
    "np_array_val1 = np.where(np_pt_cloud1[:,0]+np_pt_cloud1[:,1]+np_pt_cloud1[:,2]==0)\n",
    "np_array_val2 = np.where(np_pt_cloud2[:,0]+np_pt_cloud2[:,1]+np_pt_cloud2[:,2]==0)\n",
    "np_pt_cloud1 = np.delete(np_pt_cloud1, np.unique(np_array_val1[0]), 0)\n",
    "np_pt_cloud2 = np.delete(np_pt_cloud2, np.unique(np_array_val2[0]), 0)"
   ]
  },
  {
   "cell_type": "code",
   "execution_count": 5,
   "id": "6c43dae9-5d0e-4694-b010-0753002fda91",
   "metadata": {},
   "outputs": [
    {
     "name": "stdout",
     "output_type": "stream",
     "text": [
      "Using matplotlib backend: <object object at 0x1355c57c0>\n"
     ]
    }
   ],
   "source": [
    "#%matplotlib inline\n",
    "#import matplotlib.pyplot as plt\n",
    "#from mpl_toolkits.mplot3d import axes3d   \n",
    "\n",
    "%matplotlib\n",
    "import matplotlib.pyplot as plt"
   ]
  },
  {
   "cell_type": "code",
   "execution_count": 6,
   "id": "1731aa4f-ab54-44de-9bb2-e741d3cd282a",
   "metadata": {},
   "outputs": [
    {
     "data": {
      "text/plain": [
       "<matplotlib.pyplot._IonContext at 0x1366853d0>"
      ]
     },
     "execution_count": 6,
     "metadata": {},
     "output_type": "execute_result"
    },
    {
     "name": "stderr",
     "output_type": "stream",
     "text": [
      "2024-07-07 17:47:59.022 Python[22994:1659425] WARNING: Secure coding is not enabled for restorable state! Enable secure coding by implementing NSApplicationDelegate.applicationSupportsSecureRestorableState: and returning YES.\n"
     ]
    }
   ],
   "source": [
    "#fig, ax = plt.subplots()\n",
    "fig = plt.figure()\n",
    "ax = fig.add_subplot(projection='3d')\n",
    "ax.scatter(np_pt_cloud1[:,0], np_pt_cloud1[:,1], np_pt_cloud1[:,2], marker='o')\n",
    "ax.scatter(np_pt_cloud2[:,0], np_pt_cloud2[:,1], np_pt_cloud2[:,2], marker='^')\n",
    "plt.ion()"
   ]
  },
  {
   "cell_type": "code",
   "execution_count": 5,
   "id": "f8f084a1-66ea-470a-98c4-040672360963",
   "metadata": {},
   "outputs": [
    {
     "name": "stdout",
     "output_type": "stream",
     "text": [
      "\u001b[?1h\u001b=\n",
      "                            < M A T L A B (R) >\n",
      "                  Copyright 1984-2022 The MathWorks, Inc.\n",
      "              R2022a Update 3 (9.12.0.1975300) 64-bit (maci64)\n",
      "                                June 2, 2022\n",
      "\n",
      " \n",
      "To get started, type doc.\n",
      "For product information, visit www.mathworks.com.\n",
      " \n",
      "time index\n",
      "    15\n",
      "\n",
      "time index\n",
      "    16\n",
      "\n",
      "time index\n",
      "    17\n",
      "\n",
      "time index\n",
      "    18\n",
      "\n",
      "time index\n",
      "    19\n",
      "\n",
      "time index\n",
      "    20\n",
      "\n",
      "time index\n",
      "    21\n",
      "\n",
      "time index\n",
      "    22\n",
      "\n",
      "time index\n",
      "    23\n",
      "\n",
      "time index\n",
      "    24\n",
      "\n",
      "time index\n",
      "    25\n",
      "\n",
      "time index\n",
      "    26\n",
      "\n",
      "time index\n",
      "    27\n",
      "\n",
      "time index\n",
      "    28\n",
      "\n",
      "time index\n",
      "    29\n",
      "\n",
      "time index\n",
      "    30\n",
      "\n",
      "\u001b[?1l\u001b>"
     ]
    }
   ],
   "source": [
    "# Cell 10: Change path to lineage construction code and run lineage construction.\n",
    "\n",
    "path_to_lineage_tree_code = path_to_code + 'lineage_track/tree_generation' # specify path to lineage tracking code\n",
    "assert os.path.exists(path_to_lineage_tree_code)\n",
    "os.chdir(path_to_lineage_tree_code) \n",
    "# MAKE SURE THAT THE CONFIG.YAML IS IN THE path_to_code DIRECTORY SPECIFIED AT TOP\n",
    "!/Applications/MATLAB_R2022a.app/bin/matlab -nosplash -nodesktop -r \"volume_track_nuclei_divisions(); exit\""
   ]
  },
  {
   "cell_type": "code",
   "execution_count": null,
   "id": "be55e0b9-2cf2-4cbe-94b7-2a8ae122fac8",
   "metadata": {},
   "outputs": [],
   "source": []
  }
 ],
 "metadata": {
  "kernelspec": {
   "display_name": "Python 3 (ipykernel)",
   "language": "python",
   "name": "python3"
  },
  "language_info": {
   "codemirror_mode": {
    "name": "ipython",
    "version": 3
   },
   "file_extension": ".py",
   "mimetype": "text/x-python",
   "name": "python",
   "nbconvert_exporter": "python",
   "pygments_lexer": "ipython3",
   "version": "3.9.13"
  }
 },
 "nbformat": 4,
 "nbformat_minor": 5
}
