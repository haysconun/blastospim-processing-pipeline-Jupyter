{
 "cells": [
  {
   "cell_type": "code",
   "execution_count": 1,
   "id": "4e6f97b2-b8e2-4d7e-b8ed-e669bf71fcb8",
   "metadata": {
    "tags": []
   },
   "outputs": [],
   "source": [
    "import stardist # THIS IS TO CHECK THAT STARDIST IS PROPERLY INSTALLED IN THIS ENVIRONMENT\n",
    "import os\n",
    "# path_to_code = '/type/path/to/downloaded/code/here/'\n",
    "path_to_code = '/Users/hnunley/Pictures/blastospim-processing-pipeline-Jupyter/' # Specify path with proper separators (either / or \\) based on operating system\n",
    "assert os.path.exists(path_to_code)\n",
    "os.chdir(path_to_code) "
   ]
  },
  {
   "cell_type": "code",
   "execution_count": 2,
   "id": "5bd1c5f4-9cfc-41d6-8c56-f0f4679411a0",
   "metadata": {
    "tags": []
   },
   "outputs": [
    {
     "name": "stdout",
     "output_type": "stream",
     "text": [
      "3.9.13\n"
     ]
    }
   ],
   "source": [
    "from platform import python_version\n",
    "\n",
    "print(python_version())"
   ]
  },
  {
   "cell_type": "code",
   "execution_count": 5,
   "id": "f57edaa8-1495-4b2d-914d-dcdbcae1d275",
   "metadata": {},
   "outputs": [],
   "source": [
    "output_dir = path_to_code + 'output' # output path\n",
    "os.mkdir(output_dir) "
   ]
  },
  {
   "cell_type": "code",
   "execution_count": 6,
   "id": "0e6c1a4a-64bd-49f3-8c54-e3f9ee3f6425",
   "metadata": {},
   "outputs": [
    {
     "name": "stdout",
     "output_type": "stream",
     "text": [
      "pyklb install missing! All klb format operations will fail. \n"
     ]
    },
    {
     "name": "stderr",
     "output_type": "stream",
     "text": [
      "2024-07-03 16:28:07.514315: I tensorflow/core/platform/cpu_feature_guard.cc:193] This TensorFlow binary is optimized with oneAPI Deep Neural Network Library (oneDNN) to use the following CPU instructions in performance-critical operations:  AVX2 FMA\n",
      "To enable them in other operations, rebuild TensorFlow with the appropriate compiler flags.\n"
     ]
    }
   ],
   "source": [
    "# CHANGE PATH TO STARDIST INFERENCE CODE\n",
    "path_to_inference_code = path_to_code + 'stardist_inference'\n",
    "assert os.path.exists(path_to_inference_code)\n",
    "os.chdir(path_to_inference_code) \n",
    "from stardist_main_again import wrapper_run_model # wrapper_run_model runs the model on a collection of images in a common folder\n",
    "# tensorflow may output here: only E indicates an error\n",
    "# ignore \"E tensorflow/stream_executor/cuda/cuda_blas.cc:2981] Unable to register cuBLAS factory: Attempting to register factory for plugin cuBLAS when one has already been registered\"\n",
    "# That is improperly flagged as an error, should be warning"
   ]
  },
  {
   "cell_type": "code",
   "execution_count": 8,
   "id": "eede3e67-4286-4e8d-87e0-bfa792d0aeb7",
   "metadata": {
    "tags": []
   },
   "outputs": [
    {
     "name": "stdout",
     "output_type": "stream",
     "text": [
      "Loading model:  early_embryo_model\n",
      "Loading network weights from 'weights_best.h5'.\n"
     ]
    },
    {
     "name": "stderr",
     "output_type": "stream",
     "text": [
      "2024-07-03 16:31:25.224872: I tensorflow/core/platform/cpu_feature_guard.cc:193] This TensorFlow binary is optimized with oneAPI Deep Neural Network Library (oneDNN) to use the following CPU instructions in performance-critical operations:  AVX2 FMA\n",
      "To enable them in other operations, rebuild TensorFlow with the appropriate compiler flags.\n"
     ]
    },
    {
     "name": "stdout",
     "output_type": "stream",
     "text": [
      "Couldn't load thresholds from 'thresholds.json', using default values. (Call 'optimize_thresholds' to change that.)\n",
      "Using default values: prob_thresh=0.5, nms_thresh=0.4.\n",
      "Original thresholds: Thresholds(prob=0.5, nms=0.4)\n",
      "User modified thresholds: Thresholds(prob=0.5, nms=0.3)\n",
      "Loading model:  late_blastocyst_model\n",
      "Loading network weights from 'weights_best.h5'.\n",
      "Loading thresholds from 'thresholds.json'.\n",
      "Using default values: prob_thresh=0.531428, nms_thresh=0.3.\n",
      "Original thresholds: Thresholds(prob=0.5314277047224283, nms=0.3)\n",
      "User modified thresholds: Thresholds(prob=0.451, nms=0.5)\n",
      "Processing image: /Users/hnunley/Pictures/blastospim-processing-pipeline-Jupyter/data/smallImages/Stardist3D_00016.tif\n",
      "loaded image shape: (50, 500, 660)\n",
      "Segmenting with early stage model.\n",
      "1/1 [==============================] - 8s 8s/step\n",
      "Processing image: /Users/hnunley/Pictures/blastospim-processing-pipeline-Jupyter/data/smallImages/Stardist3D_00017.tif\n",
      "loaded image shape: (50, 500, 660)\n",
      "Segmenting with early stage model.\n",
      "1/1 [==============================] - 8s 8s/step\n",
      "Processing image: /Users/hnunley/Pictures/blastospim-processing-pipeline-Jupyter/data/smallImages/Stardist3D_00029.tif\n",
      "loaded image shape: (50, 500, 660)\n",
      "Segmenting with late stage model.\n",
      "1/1 [==============================] - 9s 9s/step\n",
      "Processing image: /Users/hnunley/Pictures/blastospim-processing-pipeline-Jupyter/data/smallImages/Stardist3D_00015.tif\n",
      "loaded image shape: (50, 500, 660)\n",
      "Segmenting with early stage model.\n",
      "1/1 [==============================] - 9s 9s/step\n",
      "Processing image: /Users/hnunley/Pictures/blastospim-processing-pipeline-Jupyter/data/smallImages/Stardist3D_00028.tif\n",
      "loaded image shape: (50, 500, 660)\n",
      "Segmenting with late stage model.\n",
      "1/1 [==============================] - 9s 9s/step\n",
      "Processing image: /Users/hnunley/Pictures/blastospim-processing-pipeline-Jupyter/data/smallImages/Stardist3D_00023.tif\n",
      "loaded image shape: (50, 500, 660)\n",
      "Segmenting with late stage model.\n",
      "1/1 [==============================] - 9s 9s/step\n",
      "Processing image: /Users/hnunley/Pictures/blastospim-processing-pipeline-Jupyter/data/smallImages/Stardist3D_00022.tif\n",
      "loaded image shape: (50, 500, 660)\n",
      "Segmenting with late stage model.\n",
      "1/1 [==============================] - 10s 10s/step\n",
      "Processing image: /Users/hnunley/Pictures/blastospim-processing-pipeline-Jupyter/data/smallImages/Stardist3D_00020.tif\n",
      "loaded image shape: (50, 500, 660)\n",
      "Segmenting with early stage model.\n",
      "1/1 [==============================] - 9s 9s/step\n",
      "Processing image: /Users/hnunley/Pictures/blastospim-processing-pipeline-Jupyter/data/smallImages/Stardist3D_00021.tif\n",
      "loaded image shape: (50, 500, 660)\n",
      "Segmenting with early stage model.\n",
      "1/1 [==============================] - 11s 11s/step\n",
      "Processing image: /Users/hnunley/Pictures/blastospim-processing-pipeline-Jupyter/data/smallImages/Stardist3D_00031.tif\n",
      "loaded image shape: (50, 500, 660)\n",
      "Segmenting with late stage model.\n",
      "1/1 [==============================] - 9s 9s/step\n",
      "Processing image: /Users/hnunley/Pictures/blastospim-processing-pipeline-Jupyter/data/smallImages/Stardist3D_00025.tif\n",
      "loaded image shape: (50, 500, 660)\n",
      "Segmenting with late stage model.\n",
      "1/1 [==============================] - 9s 9s/step\n",
      "Processing image: /Users/hnunley/Pictures/blastospim-processing-pipeline-Jupyter/data/smallImages/Stardist3D_00019.tif\n",
      "loaded image shape: (50, 500, 660)\n",
      "Segmenting with early stage model.\n",
      "1/1 [==============================] - 9s 9s/step\n",
      "Processing image: /Users/hnunley/Pictures/blastospim-processing-pipeline-Jupyter/data/smallImages/Stardist3D_00018.tif\n",
      "loaded image shape: (50, 500, 660)\n",
      "Segmenting with early stage model.\n",
      "1/1 [==============================] - 9s 9s/step\n",
      "Processing image: /Users/hnunley/Pictures/blastospim-processing-pipeline-Jupyter/data/smallImages/Stardist3D_00024.tif\n",
      "loaded image shape: (50, 500, 660)\n",
      "Segmenting with late stage model.\n",
      "1/1 [==============================] - 9s 9s/step\n",
      "Processing image: /Users/hnunley/Pictures/blastospim-processing-pipeline-Jupyter/data/smallImages/Stardist3D_00030.tif\n",
      "loaded image shape: (50, 500, 660)\n",
      "Segmenting with late stage model.\n",
      "1/1 [==============================] - 9s 9s/step\n",
      "Processing image: /Users/hnunley/Pictures/blastospim-processing-pipeline-Jupyter/data/smallImages/Stardist3D_00026.tif\n",
      "loaded image shape: (50, 500, 660)\n",
      "Segmenting with late stage model.\n",
      "1/1 [==============================] - 9s 9s/step\n",
      "Processing image: /Users/hnunley/Pictures/blastospim-processing-pipeline-Jupyter/data/smallImages/Stardist3D_00027.tif\n",
      "loaded image shape: (50, 500, 660)\n",
      "Segmenting with late stage model.\n",
      "1/1 [==============================] - 9s 9s/step\n"
     ]
    }
   ],
   "source": [
    "# CHANGE PATHS FOR YOUR OWN IMAGES AND OUTPUTS -- STARDIST SEGMENTATION\n",
    "image_path = path_to_code + 'data/smallImages' # The path to the original raw intensity image(s) in klb/h5/tif/npy format with the same extensions respectively.\n",
    "early_model_dir = path_to_code + 'models/early_embryo_model' # The directory containing the trained Stardist 3D model for early stage of the embryo.\n",
    "early_prob_thresh = 0.5 # The probability threshold to be used to initialize the Stardist 3D model for early stage of the embryo.\n",
    "early_nms_thresh = 0.3 # The nms threshold to be used to initialize the Stardist 3D model for early stage of the embryo.\n",
    "late_model_dir = path_to_code + 'models/late_blastocyst_model' # The directory containing the trained Stardist 3D model for late stage of the embryo.\n",
    "late_prob_thresh = 0.451 # The probability threshold to be used to initialize the Stardist 3D model for late stage of the embryo.\n",
    "late_nms_thresh = 0.5 # The nms threshold to be used to initialize the Stardist 3D model for late stage of the embryo.\n",
    "timepoint_switch = 22 # The time-point to switch from early to lae stage model.\n",
    "output_format = \"tif\" # The output format klb/h5/tif/npy. -- cannot output klb if pyklb not installed!\n",
    "wrapper_run_model(image_path, output_dir, early_model_dir, early_prob_thresh, early_nms_thresh, late_model_dir, late_prob_thresh, late_nms_thresh, timepoint_switch, output_format)"
   ]
  },
  {
   "cell_type": "code",
   "execution_count": 11,
   "id": "55a18e12-8151-46f6-a337-6a64b89eac7b",
   "metadata": {
    "tags": []
   },
   "outputs": [],
   "source": [
    "# SAMPLE CODE FOR READING RESULTING IMAGES\n",
    "\n",
    "from tifffile import imread, imwrite\n",
    "Xi = imread(path_to_code+'data/smallImages/Stardist3D_00024.tif')\n",
    "Yi = imread(path_to_code+'data/small_Expected_Segmentation/klbOut_Cam_Long_00024.lux.label.tif')\n",
    "\n",
    "# PUT AARON'S STUFF HERE"
   ]
  },
  {
   "cell_type": "code",
   "execution_count": 14,
   "id": "09ac90b0-11dd-4e69-981a-393132f0a329",
   "metadata": {},
   "outputs": [
    {
     "name": "stdout",
     "output_type": "stream",
     "text": [
      "\u001b[?1h\u001b=\n",
      "                            < M A T L A B (R) >\n",
      "                  Copyright 1984-2022 The MathWorks, Inc.\n",
      "              R2022a Update 3 (9.12.0.1975300) 64-bit (maci64)\n",
      "                                June 2, 2022\n",
      "\n",
      " \n",
      "To get started, type doc.\n",
      "For product information, visit www.mathworks.com.\n",
      " \n",
      "\u001b[?1l\u001b>"
     ]
    }
   ],
   "source": [
    "# check that you are running matlab correctlty (see links for MATLAB in setup instructions)\n",
    "this_current_path = os.getcwd()\n",
    "matlab_path = '/Applications/MATLAB_R2022a.app/bin'\n",
    "os.chdir(matlab_path)\n",
    "!./matlab -nosplash -nodesktop -r \"1+1 == 2; exit\"\n",
    "os.chdir(this_current_path)"
   ]
  },
  {
   "cell_type": "code",
   "execution_count": 15,
   "id": "50e7a3c0-1c90-4ac6-88ed-43ad1817e35e",
   "metadata": {
    "tags": []
   },
   "outputs": [
    {
     "data": {
      "text/plain": [
       "'/Users/hnunley/Pictures/blastospim-processing-pipeline-Jupyter/lineage_track/regristration'"
      ]
     },
     "execution_count": 15,
     "metadata": {},
     "output_type": "execute_result"
    }
   ],
   "source": [
    "# CHANGE PATH TO REGISTRATION CODE\n",
    "path_to_registration_code = path_to_code + 'lineage_track' + os.path.sep + 'regristration' # specify path to lineage tracking code\n",
    "assert os.path.exists(path_to_registration_code)\n",
    "os.chdir(path_to_registration_code) \n",
    "os.getcwd()"
   ]
  },
  {
   "cell_type": "code",
   "execution_count": 13,
   "id": "3cafd2ee-19a9-4c71-9f0f-01d71ff2f5f7",
   "metadata": {},
   "outputs": [
    {
     "name": "stdout",
     "output_type": "stream",
     "text": [
      "/bin/bash: matlab: command not found\n"
     ]
    }
   ],
   "source": [
    "# RUN MATLAB CODE FOR REGISTRATION\n",
    "# MAKE SURE THAT THE CONFIG.YAML IS IN THE path_to_code DIRECTORY SPECIFIED HERE\n",
    "# adjust config file before running\n",
    "matlab_path = '/Applications/MATLAB_R2022a.app/bin'\n",
    "os.chdir(matlab_path)\n",
    "!matlab -nosplash -nodesktop -r \"Registration_Centroids('/mnt/home/hnunley/revised_code_for_pipeline/'); exit\""
   ]
  },
  {
   "cell_type": "code",
   "execution_count": 6,
   "id": "ae49fb89-eb6b-4cdf-950b-fcaaa4ef3252",
   "metadata": {},
   "outputs": [
    {
     "data": {
      "text/plain": [
       "'/mnt/home/hnunley/revised_code_for_pipeline/lineage_track/tree_generation'"
      ]
     },
     "execution_count": 6,
     "metadata": {},
     "output_type": "execute_result"
    }
   ],
   "source": [
    "# CHANGE PATH TO LINEAGE CONSTRUCTION CODE\n",
    "path_to_lineage_tree_code = path_to_code + 'lineage_track/tree_generation' # specify path to lineage tracking code\n",
    "assert os.path.exists(path_to_lineage_tree_code)\n",
    "os.chdir(path_to_lineage_tree_code) \n",
    "os.getcwd()"
   ]
  },
  {
   "cell_type": "code",
   "execution_count": 7,
   "id": "6421e23c-7af0-486c-8eca-47edf139cb97",
   "metadata": {},
   "outputs": [
    {
     "name": "stdout",
     "output_type": "stream",
     "text": [
      "/bin/bash: matlab: command not found\n"
     ]
    }
   ],
   "source": [
    "# RUN MATLAB CODE FOR LINEAGE CONSTRUCTION\n",
    "# MAKE SURE THAT THE CONFIG.YAML IS IN THE path_to_code DIRECTORY SPECIFIED HERE\n",
    "# adjust config file before running\n",
    "# check that you are running matlab correctlty (see links for MATLAB in setup instructions)\n",
    "!matlab -nosplash -nodesktop -r \"volume_track_nuclei_divisions('/mnt/home/hnunley/revised_code_for_pipeline/'); exit\""
   ]
  },
  {
   "cell_type": "code",
   "execution_count": null,
   "id": "1b68df63-cf61-4fdd-9e0b-172cb5fdde7d",
   "metadata": {},
   "outputs": [],
   "source": [
    "assert os.path.exists(path_to_code)\n",
    "os.chdir(path_to_code) "
   ]
  }
 ],
 "metadata": {
  "kernelspec": {
   "display_name": "Python 3 (ipykernel)",
   "language": "python",
   "name": "python3"
  },
  "language_info": {
   "codemirror_mode": {
    "name": "ipython",
    "version": 3
   },
   "file_extension": ".py",
   "mimetype": "text/x-python",
   "name": "python",
   "nbconvert_exporter": "python",
   "pygments_lexer": "ipython3",
   "version": "3.9.13"
  }
 },
 "nbformat": 4,
 "nbformat_minor": 5
}
