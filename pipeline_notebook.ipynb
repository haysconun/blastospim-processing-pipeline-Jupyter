{
 "cells": [
  {
   "cell_type": "code",
   "execution_count": 1,
   "id": "4e6f97b2-b8e2-4d7e-b8ed-e669bf71fcb8",
   "metadata": {
    "tags": []
   },
   "outputs": [],
   "source": [
    "import stardist # THIS IS TO CHECK THAT STARDIST IS PROPERLY INSTALLED IN THIS ENVIRONMENT\n",
    "import os\n",
    "# path_to_code = '/type/path/to/downloaded/code/here'\n",
    "path_to_code = '/mnt/home/hnunley/revised_code_for_pipeline/' # Specify path with proper separators (either / or \\) based on operating system\n",
    "assert os.path.exists(path_to_code)\n",
    "os.chdir(path_to_code) "
   ]
  },
  {
   "cell_type": "code",
   "execution_count": 2,
   "id": "5bd1c5f4-9cfc-41d6-8c56-f0f4679411a0",
   "metadata": {
    "tags": []
   },
   "outputs": [
    {
     "name": "stdout",
     "output_type": "stream",
     "text": [
      "3.9.16\n"
     ]
    }
   ],
   "source": [
    "from platform import python_version\n",
    "\n",
    "print(python_version())"
   ]
  },
  {
   "cell_type": "code",
   "execution_count": 10,
   "id": "0e6c1a4a-64bd-49f3-8c54-e3f9ee3f6425",
   "metadata": {},
   "outputs": [],
   "source": [
    "# CHANGE PATH TO STARDIST INFERENCE CODE\n",
    "path_to_inference_code = path_to_code + 'stardist_inference'\n",
    "assert os.path.exists(path_to_inference_code)\n",
    "os.chdir(path_to_inference_code) \n",
    "from stardist_main_again import wrapper_run_model # wrapper_run_model runs the model on a collection of images in a common folder\n",
    "# tensorflow may output here: only E indicates an error\n",
    "# ignore \"E tensorflow/stream_executor/cuda/cuda_blas.cc:2981] Unable to register cuBLAS factory: Attempting to register factory for plugin cuBLAS when one has already been registered\"\n",
    "# That is improperly flagged as an error, should be warning"
   ]
  },
  {
   "cell_type": "code",
   "execution_count": 4,
   "id": "eede3e67-4286-4e8d-87e0-bfa792d0aeb7",
   "metadata": {
    "tags": []
   },
   "outputs": [
    {
     "name": "stdout",
     "output_type": "stream",
     "text": [
      "Loading model:  early_embryo_model\n"
     ]
    },
    {
     "name": "stderr",
     "output_type": "stream",
     "text": [
      "2024-06-20 17:51:06.801665: E tensorflow/stream_executor/cuda/cuda_driver.cc:265] failed call to cuInit: CUDA_ERROR_NO_DEVICE: no CUDA-capable device is detected\n",
      "2024-06-20 17:51:06.801715: I tensorflow/stream_executor/cuda/cuda_diagnostics.cc:156] kernel driver does not appear to be running on this host (worker3022): /proc/driver/nvidia/version does not exist\n",
      "2024-06-20 17:51:06.803346: I tensorflow/core/platform/cpu_feature_guard.cc:193] This TensorFlow binary is optimized with oneAPI Deep Neural Network Library (oneDNN) to use the following CPU instructions in performance-critical operations:  AVX2 AVX512F FMA\n",
      "To enable them in other operations, rebuild TensorFlow with the appropriate compiler flags.\n"
     ]
    },
    {
     "name": "stdout",
     "output_type": "stream",
     "text": [
      "Loading network weights from 'weights_best.h5'.\n",
      "Couldn't load thresholds from 'thresholds.json', using default values. (Call 'optimize_thresholds' to change that.)\n",
      "Using default values: prob_thresh=0.5, nms_thresh=0.4.\n",
      "Original thresholds: Thresholds(prob=0.5, nms=0.4)\n",
      "User modified thresholds: Thresholds(prob=0.5, nms=0.3)\n",
      "Loading model:  late_blastocyst_model\n",
      "Loading network weights from 'weights_best.h5'.\n",
      "Loading thresholds from 'thresholds.json'.\n",
      "Using default values: prob_thresh=0.531428, nms_thresh=0.3.\n",
      "Original thresholds: Thresholds(prob=0.5314277047224283, nms=0.3)\n",
      "User modified thresholds: Thresholds(prob=0.451, nms=0.5)\n",
      "Processing image: /mnt/home/hnunley/revised_code_for_pipeline/data/smallImages/Stardist3D_00024.tif\n",
      "loaded image shape: (50, 500, 660)\n",
      "Segmenting with late stage model.\n",
      "1/1 [==============================] - 2s 2s/step\n",
      "Processing image: /mnt/home/hnunley/revised_code_for_pipeline/data/smallImages/Stardist3D_00025.tif\n",
      "loaded image shape: (50, 500, 660)\n",
      "Segmenting with late stage model.\n",
      "1/1 [==============================] - 2s 2s/step\n",
      "Processing image: /mnt/home/hnunley/revised_code_for_pipeline/data/smallImages/Stardist3D_00015.tif\n",
      "loaded image shape: (50, 500, 660)\n",
      "Segmenting with early stage model.\n",
      "1/1 [==============================] - 2s 2s/step\n",
      "Processing image: /mnt/home/hnunley/revised_code_for_pipeline/data/smallImages/Stardist3D_00020.tif\n",
      "loaded image shape: (50, 500, 660)\n",
      "Segmenting with early stage model.\n",
      "1/1 [==============================] - 2s 2s/step\n",
      "Processing image: /mnt/home/hnunley/revised_code_for_pipeline/data/smallImages/Stardist3D_00030.tif\n",
      "loaded image shape: (50, 500, 660)\n",
      "Segmenting with late stage model.\n",
      "1/1 [==============================] - 2s 2s/step\n",
      "Processing image: /mnt/home/hnunley/revised_code_for_pipeline/data/smallImages/Stardist3D_00021.tif\n",
      "loaded image shape: (50, 500, 660)\n",
      "Segmenting with early stage model.\n",
      "1/1 [==============================] - 2s 2s/step\n",
      "Processing image: /mnt/home/hnunley/revised_code_for_pipeline/data/smallImages/Stardist3D_00027.tif\n",
      "loaded image shape: (50, 500, 660)\n",
      "Segmenting with late stage model.\n",
      "1/1 [==============================] - 2s 2s/step\n",
      "Processing image: /mnt/home/hnunley/revised_code_for_pipeline/data/smallImages/Stardist3D_00026.tif\n",
      "loaded image shape: (50, 500, 660)\n",
      "Segmenting with late stage model.\n",
      "1/1 [==============================] - 2s 2s/step\n",
      "Processing image: /mnt/home/hnunley/revised_code_for_pipeline/data/smallImages/Stardist3D_00023.tif\n",
      "loaded image shape: (50, 500, 660)\n",
      "Segmenting with late stage model.\n",
      "1/1 [==============================] - 2s 2s/step\n",
      "Processing image: /mnt/home/hnunley/revised_code_for_pipeline/data/smallImages/Stardist3D_00018.tif\n",
      "loaded image shape: (50, 500, 660)\n",
      "Segmenting with early stage model.\n",
      "1/1 [==============================] - 2s 2s/step\n",
      "Processing image: /mnt/home/hnunley/revised_code_for_pipeline/data/smallImages/Stardist3D_00031.tif\n",
      "loaded image shape: (50, 500, 660)\n",
      "Segmenting with late stage model.\n",
      "1/1 [==============================] - 2s 2s/step\n",
      "Processing image: /mnt/home/hnunley/revised_code_for_pipeline/data/smallImages/Stardist3D_00028.tif\n",
      "loaded image shape: (50, 500, 660)\n",
      "Segmenting with late stage model.\n",
      "1/1 [==============================] - 2s 2s/step\n",
      "Processing image: /mnt/home/hnunley/revised_code_for_pipeline/data/smallImages/Stardist3D_00022.tif\n",
      "loaded image shape: (50, 500, 660)\n",
      "Segmenting with late stage model.\n",
      "1/1 [==============================] - 2s 2s/step\n",
      "Processing image: /mnt/home/hnunley/revised_code_for_pipeline/data/smallImages/Stardist3D_00017.tif\n",
      "loaded image shape: (50, 500, 660)\n",
      "Segmenting with early stage model.\n",
      "1/1 [==============================] - 2s 2s/step\n",
      "Processing image: /mnt/home/hnunley/revised_code_for_pipeline/data/smallImages/Stardist3D_00016.tif\n",
      "loaded image shape: (50, 500, 660)\n",
      "Segmenting with early stage model.\n",
      "1/1 [==============================] - 2s 2s/step\n",
      "Processing image: /mnt/home/hnunley/revised_code_for_pipeline/data/smallImages/Stardist3D_00029.tif\n",
      "loaded image shape: (50, 500, 660)\n",
      "Segmenting with late stage model.\n",
      "1/1 [==============================] - 2s 2s/step\n",
      "Processing image: /mnt/home/hnunley/revised_code_for_pipeline/data/smallImages/Stardist3D_00019.tif\n",
      "loaded image shape: (50, 500, 660)\n",
      "Segmenting with early stage model.\n",
      "1/1 [==============================] - 2s 2s/step\n"
     ]
    }
   ],
   "source": [
    "# CHANGE PATHS FOR YOUR OWN IMAGES AND OUTPUTS -- STARDIST SEGMENTATION\n",
    "image_path = \"/mnt/home/hnunley/revised_code_for_pipeline/data/smallImages\" # The path to the original raw intensity image(s) in klb/h5/tif/npy format with the same extensions respectively.\n",
    "output_dir = \"/mnt/home/hnunley/revised_code_for_pipeline/output\" # output path\n",
    "early_model_dir = \"/mnt/home/hnunley/revised_code_for_pipeline/models/early_embryo_model\" # The directory containing the trained Stardist 3D model for early stage of the embryo.\n",
    "early_prob_thresh = 0.5 # The probability threshold to be used to initialize the Stardist 3D model for early stage of the embryo.\n",
    "early_nms_thresh = 0.3 # The nms threshold to be used to initialize the Stardist 3D model for early stage of the embryo.\n",
    "late_model_dir = \"/mnt/home/hnunley/revised_code_for_pipeline/models/late_blastocyst_model\" # The directory containing the trained Stardist 3D model for late stage of the embryo.\n",
    "late_prob_thresh = 0.451 # The probability threshold to be used to initialize the Stardist 3D model for late stage of the embryo.\n",
    "late_nms_thresh = 0.5 # The nms threshold to be used to initialize the Stardist 3D model for late stage of the embryo.\n",
    "timepoint_switch = 22 # The time-point to switch from early to lae stage model.\n",
    "output_format = \"tif\" # The output format klb/h5/tif/npy. -- cannot output klb if pyklb not installed!\n",
    "wrapper_run_model(image_path, output_dir, early_model_dir, early_prob_thresh, early_nms_thresh, late_model_dir, late_prob_thresh, late_nms_thresh, timepoint_switch, output_format)"
   ]
  },
  {
   "cell_type": "code",
   "execution_count": 5,
   "id": "55a18e12-8151-46f6-a337-6a64b89eac7b",
   "metadata": {
    "tags": []
   },
   "outputs": [],
   "source": [
    "# SAMPLE CODE FOR READING RESULTING IMAGES\n",
    "\n",
    "# from tifffile import imread, imwrite\n",
    "# Xi = imread('/mnt/ceph/users/hnunley/mouse_data_folder_Apr24/test/data/Images/klbOut_Cam_Long_00015.lux.tif')\n",
    "# Yi = imread('/mnt/ceph/users/hnunley/mouse_data_folder_Apr24/test/data/Expected_Segmentation/klbOut_Cam_Long_00015.lux.label.tif')"
   ]
  },
  {
   "cell_type": "code",
   "execution_count": 2,
   "id": "50e7a3c0-1c90-4ac6-88ed-43ad1817e35e",
   "metadata": {
    "tags": []
   },
   "outputs": [
    {
     "data": {
      "text/plain": [
       "'/mnt/home/hnunley/revised_code_for_pipeline/lineage_track/regristration'"
      ]
     },
     "execution_count": 2,
     "metadata": {},
     "output_type": "execute_result"
    }
   ],
   "source": [
    "# CHANGE PATH TO REGISTRATION CODE\n",
    "path_to_registration_code = path_to_code + 'lineage_track' + os.path.sep + 'regristration' # specify path to lineage tracking code\n",
    "assert os.path.exists(path_to_registration_code)\n",
    "os.chdir(path_to_registration_code) \n",
    "os.getcwd()"
   ]
  },
  {
   "cell_type": "code",
   "execution_count": 3,
   "id": "3cafd2ee-19a9-4c71-9f0f-01d71ff2f5f7",
   "metadata": {},
   "outputs": [
    {
     "name": "stdout",
     "output_type": "stream",
     "text": [
      "/bin/bash: matlab: command not found\n"
     ]
    }
   ],
   "source": [
    "# RUN MATLAB CODE FOR REGISTRATION\n",
    "# MAKE SURE THAT THE CONFIG.YAML IS IN THE path_to_code DIRECTORY SPECIFIED HERE\n",
    "# adjust config file before running\n",
    "# check that you are running matlab correctlty (see links for MATLAB in setup instructions)\n",
    "!matlab -nosplash -nodesktop -r \"Registration_Centroids('/mnt/home/hnunley/revised_code_for_pipeline/'); exit\""
   ]
  },
  {
   "cell_type": "code",
   "execution_count": 6,
   "id": "ae49fb89-eb6b-4cdf-950b-fcaaa4ef3252",
   "metadata": {},
   "outputs": [
    {
     "data": {
      "text/plain": [
       "'/mnt/home/hnunley/revised_code_for_pipeline/lineage_track/tree_generation'"
      ]
     },
     "execution_count": 6,
     "metadata": {},
     "output_type": "execute_result"
    }
   ],
   "source": [
    "# CHANGE PATH TO LINEAGE CONSTRUCTION CODE\n",
    "path_to_lineage_tree_code = path_to_code + 'lineage_track/tree_generation' # specify path to lineage tracking code\n",
    "assert os.path.exists(path_to_lineage_tree_code)\n",
    "os.chdir(path_to_lineage_tree_code) \n",
    "os.getcwd()"
   ]
  },
  {
   "cell_type": "code",
   "execution_count": 7,
   "id": "6421e23c-7af0-486c-8eca-47edf139cb97",
   "metadata": {},
   "outputs": [
    {
     "name": "stdout",
     "output_type": "stream",
     "text": [
      "/bin/bash: matlab: command not found\n"
     ]
    }
   ],
   "source": [
    "# RUN MATLAB CODE FOR LINEAGE CONSTRUCTION\n",
    "# MAKE SURE THAT THE CONFIG.YAML IS IN THE path_to_code DIRECTORY SPECIFIED HERE\n",
    "# adjust config file before running\n",
    "# check that you are running matlab correctlty (see links for MATLAB in setup instructions)\n",
    "!matlab -nosplash -nodesktop -r \"volume_track_nuclei_divisions('/mnt/home/hnunley/revised_code_for_pipeline/'); exit\""
   ]
  },
  {
   "cell_type": "code",
   "execution_count": null,
   "id": "1b68df63-cf61-4fdd-9e0b-172cb5fdde7d",
   "metadata": {},
   "outputs": [],
   "source": [
    "assert os.path.exists(path_to_code)\n",
    "os.chdir(path_to_code) "
   ]
  }
 ],
 "metadata": {
  "kernelspec": {
   "display_name": "final_kernel_Jun20_39_end_607",
   "language": "python",
   "name": "final_kernel_jun20_39_end_607"
  },
  "language_info": {
   "codemirror_mode": {
    "name": "ipython",
    "version": 3
   },
   "file_extension": ".py",
   "mimetype": "text/x-python",
   "name": "python",
   "nbconvert_exporter": "python",
   "pygments_lexer": "ipython3",
   "version": "3.9.16"
  }
 },
 "nbformat": 4,
 "nbformat_minor": 5
}
