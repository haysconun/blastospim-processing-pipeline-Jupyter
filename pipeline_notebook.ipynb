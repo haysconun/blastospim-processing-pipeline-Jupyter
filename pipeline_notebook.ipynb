{
 "cells": [
  {
   "cell_type": "code",
   "execution_count": 2,
   "id": "4e6f97b2-b8e2-4d7e-b8ed-e669bf71fcb8",
   "metadata": {
    "tags": []
   },
   "outputs": [
    {
     "name": "stdout",
     "output_type": "stream",
     "text": [
      "3.9.13\n"
     ]
    }
   ],
   "source": [
    "# Cell 1: setting path to blastospim-processing-pipeline-Jupyter code and checking environment\n",
    "\n",
    "import stardist # TO CHECK THAT STARDIST IS PROPERLY INSTALLED IN THIS ENVIRONMENT\n",
    "import os\n",
    "\n",
    "# Specify path to blastospim-processing-pipeline-Jupyter directory\n",
    "# path_to_code = '/path/to/your/blastospim-processing-pipeline-Jupyter/'\n",
    "path_to_code = '/Users/hnunley/Pictures/blastospim-processing-pipeline-Jupyter/'\n",
    "assert os.path.exists(path_to_code)\n",
    "os.chdir(path_to_code) \n",
    "\n",
    "from platform import python_version\n",
    "print(python_version())"
   ]
  },
  {
   "cell_type": "code",
   "execution_count": 3,
   "id": "f57edaa8-1495-4b2d-914d-dcdbcae1d275",
   "metadata": {},
   "outputs": [],
   "source": [
    "# Cell 2: check that output path exists\n",
    "\n",
    "output_dir = path_to_code + 'output' # output path\n",
    "if not os.path.exists(output_dir):\n",
    "    os.mkdir(output_dir) "
   ]
  },
  {
   "cell_type": "code",
   "execution_count": null,
   "id": "4dc2cabb-9c8e-41b0-bf6e-bf01e0a3e280",
   "metadata": {},
   "outputs": [],
   "source": [
    "# Cell 3: Import function for Stardist inference on a set of images.\n",
    "\n",
    "path_to_inference_code = path_to_code + 'stardist_inference'\n",
    "assert os.path.exists(path_to_inference_code)\n",
    "os.chdir(path_to_inference_code) \n",
    "from stardist_main_again import wrapper_run_model \n",
    "# wrapper_run_model runs the model on a set of images in a common folder\n",
    "# tensorflow may output here: only E indicates an error\n",
    "# ignore \"E tensorflow/stream_executor/cuda/cuda_blas.cc:2981] Unable to register cuBLAS factory: Attempting to register factory for plugin cuBLAS when one has already been registered\"\n",
    "# That is improperly flagged as an error, should be warning"
   ]
  },
  {
   "cell_type": "code",
   "execution_count": null,
   "id": "8ef3c378-a015-4c76-9421-8a4114329318",
   "metadata": {},
   "outputs": [],
   "source": [
    "# Cell 4: SET PATHS, SETTINGS FOR YOUR OWN IMAGES AND OUTPUTS -- STARDIST SEGMENTATION\n",
    "\n",
    "image_path = path_to_code + 'data/smallImages' # The path to the original raw intensity image(s) in klb/h5/tif/npy format with the same extensions respectively.\n",
    "early_model_dir = path_to_code + 'models/early_embryo_model' # The directory containing the trained Stardist 3D model for early stage of the embryo.\n",
    "early_prob_thresh = 0.5 # The probability threshold to be used to initialize the Stardist 3D model for early stage of the embryo.\n",
    "early_nms_thresh = 0.3 # The nms threshold to be used to initialize the Stardist 3D model for early stage of the embryo.\n",
    "late_model_dir = path_to_code + 'models/late_blastocyst_model' # The directory containing the trained Stardist 3D model for late stage of the embryo.\n",
    "late_prob_thresh = 0.451 # The probability threshold to be used to initialize the Stardist 3D model for late stage of the embryo.\n",
    "late_nms_thresh = 0.5 # The nms threshold to be used to initialize the Stardist 3D model for late stage of the embryo.\n",
    "timepoint_switch = 22 # The time-point to switch from early to lae stage model.\n",
    "output_format = \"tif\" # The output format klb/h5/tif/npy. -- cannot output klb if pyklb not installed!\n",
    "\n",
    "wrapper_run_model(image_path, output_dir, early_model_dir, early_prob_thresh, early_nms_thresh, late_model_dir, late_prob_thresh, late_nms_thresh, timepoint_switch, output_format)"
   ]
  },
  {
   "cell_type": "code",
   "execution_count": null,
   "id": "36ce8be7-fb31-4b33-83c0-8490026d506a",
   "metadata": {},
   "outputs": [],
   "source": [
    "# Cell 5 (OPTIONAL): Visualization of Stardist-3D segmentation with raw image\n",
    "\n",
    "bVis = True # flag for visualization\n",
    "# specify image paths\n",
    "timepoint = '24'\n",
    "assert isinstance(timepoint, str)\n",
    "labels_path = output_dir + os.path.sep + 'Stardist3D_' + timepoint.zfill(5) + '.label.tif'\n",
    "intensities_path = image_path + os.path.sep + 'Stardist3D_' + timepoint.zfill(5) + '.tif'\n",
    "if bVis:\n",
    "    from volume_gizmos import SegmentationQuad\n",
    "    quad = await SegmentationQuad.quad(labels_path, intensities_path, size=400, dK=10, rotate=False)"
   ]
  },
  {
   "cell_type": "code",
   "execution_count": 7,
   "id": "09ac90b0-11dd-4e69-981a-393132f0a329",
   "metadata": {},
   "outputs": [
    {
     "name": "stdout",
     "output_type": "stream",
     "text": [
      "\u001b[?1h\u001b=\n",
      "                            < M A T L A B (R) >\n",
      "                  Copyright 1984-2022 The MathWorks, Inc.\n",
      "              R2022a Update 3 (9.12.0.1975300) 64-bit (maci64)\n",
      "                                June 2, 2022\n",
      "\n",
      " \n",
      "To get started, type doc.\n",
      "For product information, visit www.mathworks.com.\n",
      " \n",
      "\u001b[?1l\u001b>"
     ]
    }
   ],
   "source": [
    "# Cell 6: Simple check that you can run MATLAB from this notebook\n",
    "\n",
    "# check that you are running matlab correctly (see links for MATLAB in setup instructions)\n",
    "!/Applications/MATLAB_R2022a.app/bin/matlab -nosplash -nodesktop -r \"1+1 == 2; exit\""
   ]
  },
  {
   "cell_type": "code",
   "execution_count": 8,
   "id": "c5a8276c-d069-4785-922f-3eed3ae3e3af",
   "metadata": {},
   "outputs": [],
   "source": [
    "# Cell 7: Change config.yaml file (in your blastospim-processing-pipeline-Jupyter directory)\n",
    "\n",
    "# adjust config file before running either of matlab codes below\n",
    "# check that you are running matlab correctlty (see Cell above)"
   ]
  },
  {
   "cell_type": "code",
   "execution_count": 8,
   "id": "50e7a3c0-1c90-4ac6-88ed-43ad1817e35e",
   "metadata": {
    "tags": []
   },
   "outputs": [
    {
     "name": "stdout",
     "output_type": "stream",
     "text": [
      "\u001b[?1h\u001b=\n",
      "                            < M A T L A B (R) >\n",
      "                  Copyright 1984-2022 The MathWorks, Inc.\n",
      "              R2022a Update 3 (9.12.0.1975300) 64-bit (maci64)\n",
      "                                June 2, 2022\n",
      "\n",
      " \n",
      "To get started, type doc.\n",
      "For product information, visit www.mathworks.com.\n",
      " \n",
      "Beginning Registration Pair (15, 16)... Best Sigma2: 1.583526, Done!\n",
      "Beginning Registration Pair (16, 17)... Best Sigma2: 1.470606, Done!\n",
      "Beginning Registration Pair (17, 18)... Best Sigma2: 15.771214, Done!\n",
      "Beginning Registration Pair (18, 19)... Best Sigma2: 11.582731, Done!\n",
      "Beginning Registration Pair (19, 20)... Best Sigma2: 12.065820, Done!\n",
      "Beginning Registration Pair (20, 21)... Best Sigma2: 10.830419, Done!\n",
      "Beginning Registration Pair (21, 22)... Best Sigma2: 6.380989, Done!\n",
      "Beginning Registration Pair (22, 23)... Best Sigma2: 6.356322, Done!\n",
      "Beginning Registration Pair (23, 24)... Best Sigma2: 2.694241, Done!\n",
      "Beginning Registration Pair (24, 25)... Best Sigma2: 0.840018, Done!\n",
      "Beginning Registration Pair (25, 26)... Best Sigma2: 14.477027, Done!\n",
      "Beginning Registration Pair (26, 27)... Best Sigma2: 4.345940, Done!\n",
      "Beginning Registration Pair (27, 28)... Best Sigma2: 4.885115, Done!\n",
      "Beginning Registration Pair (28, 29)... Best Sigma2: 7.244024, Done!\n",
      "Beginning Registration Pair (29, 30)... Best Sigma2: 12.379594, Done!\n",
      "Beginning Registration Pair (30, 31)... Best Sigma2: 1.722522, Done!\n",
      "Elapsed time is 22.381934 seconds.\n",
      "\u001b[?1l\u001b>"
     ]
    }
   ],
   "source": [
    "# Cell 8: Change path to registration code and run registration.\n",
    "\n",
    "path_to_registration_code = path_to_code + 'lineage_track' + os.path.sep + 'regristration' # specify path to lineage tracking code\n",
    "assert os.path.exists(path_to_registration_code)\n",
    "os.chdir(path_to_registration_code) \n",
    "# MAKE SURE THAT THE CONFIG.YAML IS IN THE path_to_code DIRECTORY SPECIFIED AT TOP\n",
    "!/Applications/MATLAB_R2022a.app/bin/matlab -nosplash -nodesktop -r \"Registration_Centroids(); exit\""
   ]
  },
  {
   "cell_type": "code",
   "execution_count": null,
   "id": "2fe56982-989a-424f-8141-7834b438253a",
   "metadata": {},
   "outputs": [],
   "source": [
    "# Cell 9: Change path to registration code and write out data for later visualizing registration.\n",
    "\n",
    "path_to_registration_code = path_to_code + 'lineage_track' + os.path.sep + 'regristration' # specify path to lineage tracking code\n",
    "assert os.path.exists(path_to_registration_code)\n",
    "os.chdir(path_to_registration_code) \n",
    "# MAKE SURE THAT THE CONFIG.YAML IS IN THE path_to_code DIRECTORY SPECIFIED AT TOP\n",
    "!/Applications/MATLAB_R2022a.app/bin/matlab -nosplash -nodesktop -r \"VisualizeSequence(); exit\""
   ]
  },
  {
   "cell_type": "code",
   "execution_count": 12,
   "id": "d347a0b8-8bdb-4277-b220-4ba10f0cf242",
   "metadata": {},
   "outputs": [],
   "source": [
    "# Cell 10 (OPTIONAL): extract the point cloud data (post-registration) from timeindex1 to timeindex1+1\n",
    "\n",
    "os.chdir(path_to_code) \n",
    "from read_csv_point_cloud import wrapper_read_csv_data\n",
    "timeindex1 = 16\n",
    "path_to_combined_mat = output_dir # make sure that output_dir matches what was specified in config.yaml\n",
    "np_pt_cloud1, np_pt_cloud2 = wrapper_read_csv_data(path_to_combined_mat, timeindex1)"
   ]
  },
  {
   "cell_type": "code",
   "execution_count": null,
   "id": "2f659bad-7850-4fbe-9792-a6a0f5f6bd4c",
   "metadata": {},
   "outputs": [],
   "source": [
    "# Cell 11 (OPTIONAL): generate 3D rotatable scatter plot of two point clouds (one color per timepoint)\n",
    "\n",
    "%matplotlib\n",
    "import matplotlib.pyplot as plt\n",
    "\n",
    "fig = plt.figure()\n",
    "ax = fig.add_subplot(projection='3d')\n",
    "ax.scatter(np_pt_cloud1[:,0], np_pt_cloud1[:,1], np_pt_cloud1[:,2], marker='o')\n",
    "ax.scatter(np_pt_cloud2[:,0], np_pt_cloud2[:,1], np_pt_cloud2[:,2], marker='^')\n",
    "#plt.ion()"
   ]
  },
  {
   "cell_type": "code",
   "execution_count": 16,
   "id": "f8f084a1-66ea-470a-98c4-040672360963",
   "metadata": {},
   "outputs": [
    {
     "name": "stdout",
     "output_type": "stream",
     "text": [
      "\u001b[?1h\u001b=\n",
      "                            < M A T L A B (R) >\n",
      "                  Copyright 1984-2022 The MathWorks, Inc.\n",
      "              R2022a Update 3 (9.12.0.1975300) 64-bit (maci64)\n",
      "                                June 2, 2022\n",
      "\n",
      " \n",
      "To get started, type doc.\n",
      "For product information, visit www.mathworks.com.\n",
      " \n",
      "time index\n",
      "    15\n",
      "\n",
      "time index\n",
      "    16\n",
      "\n",
      "time index\n",
      "    17\n",
      "\n",
      "time index\n",
      "    18\n",
      "\n",
      "time index\n",
      "    19\n",
      "\n",
      "time index\n",
      "    20\n",
      "\n",
      "time index\n",
      "    21\n",
      "\n",
      "time index\n",
      "    22\n",
      "\n",
      "time index\n",
      "    23\n",
      "\n",
      "time index\n",
      "    24\n",
      "\n",
      "time index\n",
      "    25\n",
      "\n",
      "time index\n",
      "    26\n",
      "\n",
      "time index\n",
      "    27\n",
      "\n",
      "time index\n",
      "    28\n",
      "\n",
      "time index\n",
      "    29\n",
      "\n",
      "time index\n",
      "    30\n",
      "\n",
      "\u001b[?1l\u001b>"
     ]
    }
   ],
   "source": [
    "# Cell 12: Change path to lineage construction code and run lineage construction.\n",
    "\n",
    "path_to_lineage_tree_code = path_to_code + 'lineage_track/tree_generation' # specify path to lineage tracking code\n",
    "assert os.path.exists(path_to_lineage_tree_code)\n",
    "os.chdir(path_to_lineage_tree_code) \n",
    "# MAKE SURE THAT THE CONFIG.YAML IS IN THE path_to_code DIRECTORY SPECIFIED AT TOP\n",
    "!/Applications/MATLAB_R2022a.app/bin/matlab -nosplash -nodesktop -r \"volume_track_nuclei_divisions(); exit\""
   ]
  }
 ],
 "metadata": {
  "kernelspec": {
   "display_name": "Python 3 (ipykernel)",
   "language": "python",
   "name": "python3"
  },
  "language_info": {
   "codemirror_mode": {
    "name": "ipython",
    "version": 3
   },
   "file_extension": ".py",
   "mimetype": "text/x-python",
   "name": "python",
   "nbconvert_exporter": "python",
   "pygments_lexer": "ipython3",
   "version": "3.9.13"
  }
 },
 "nbformat": 4,
 "nbformat_minor": 5
}
